{
 "cells": [
  {
   "cell_type": "markdown",
   "metadata": {},
   "source": [
    "# Install Great Expectation Package"
   ]
  },
  {
   "cell_type": "code",
   "execution_count": 67,
   "metadata": {},
   "outputs": [],
   "source": [
    "# # Install the library\n",
    "\n",
    "# !pip install -q great-expectations"
   ]
  },
  {
   "cell_type": "markdown",
   "metadata": {},
   "source": [
    "# Instantiate Data Context"
   ]
  },
  {
   "cell_type": "code",
   "execution_count": 68,
   "metadata": {},
   "outputs": [],
   "source": [
    "# Create a data context\n",
    "\n",
    "from great_expectations.data_context import FileDataContext\n",
    "\n",
    "context = FileDataContext.create(project_root_dir='./')"
   ]
  },
  {
   "cell_type": "markdown",
   "metadata": {},
   "source": [
    "# Connect to a DataSource"
   ]
  },
  {
   "cell_type": "code",
   "execution_count": 69,
   "metadata": {},
   "outputs": [],
   "source": [
    "# Give a name to a Datasource. This name must be unique between Datasources.\n",
    "datasource_name = 'csv-data-jan'\n",
    "datasource = context.sources.add_pandas(datasource_name)\n",
    "\n",
    "# Give a name to a data asset\n",
    "asset_name = 'Smartphone Retail Outlet Sales Data'\n",
    "path_to_data = 'P2M3_Fadhilah_data_raw.csv'\n",
    "asset = datasource.add_csv_asset(asset_name, filepath_or_buffer=path_to_data)\n",
    "\n",
    "# Build batch request\n",
    "batch_request = asset.build_batch_request()"
   ]
  },
  {
   "cell_type": "markdown",
   "metadata": {},
   "source": [
    "Menghubungkan dataset raw sebagai data source"
   ]
  },
  {
   "cell_type": "markdown",
   "metadata": {},
   "source": [
    "# Create an Expectation Suite"
   ]
  },
  {
   "cell_type": "code",
   "execution_count": 70,
   "metadata": {},
   "outputs": [
    {
     "data": {
      "application/vnd.jupyter.widget-view+json": {
       "model_id": "4752752e16d940a7b43c6495260e049c",
       "version_major": 2,
       "version_minor": 0
      },
      "text/plain": [
       "Calculating Metrics:   0%|          | 0/1 [00:00<?, ?it/s]"
      ]
     },
     "metadata": {},
     "output_type": "display_data"
    },
    {
     "data": {
      "text/html": [
       "<div>\n",
       "<style scoped>\n",
       "    .dataframe tbody tr th:only-of-type {\n",
       "        vertical-align: middle;\n",
       "    }\n",
       "\n",
       "    .dataframe tbody tr th {\n",
       "        vertical-align: top;\n",
       "    }\n",
       "\n",
       "    .dataframe thead th {\n",
       "        text-align: right;\n",
       "    }\n",
       "</style>\n",
       "<table border=\"1\" class=\"dataframe\">\n",
       "  <thead>\n",
       "    <tr style=\"text-align: right;\">\n",
       "      <th></th>\n",
       "      <th>Date</th>\n",
       "      <th>F.Y</th>\n",
       "      <th>QUARTER</th>\n",
       "      <th>P_NO</th>\n",
       "      <th>PAYMENT TYPE</th>\n",
       "      <th>TYPE OF PRODUCT</th>\n",
       "      <th>Quantity</th>\n",
       "      <th>Price</th>\n",
       "      <th>Amount</th>\n",
       "      <th>TYPE OF ACCESSORY/MOBILE</th>\n",
       "    </tr>\n",
       "  </thead>\n",
       "  <tbody>\n",
       "    <tr>\n",
       "      <th>0</th>\n",
       "      <td>01-04-2018</td>\n",
       "      <td>2018-2019</td>\n",
       "      <td>1</td>\n",
       "      <td>P/A/36</td>\n",
       "      <td>CASH</td>\n",
       "      <td>ACCESSORY</td>\n",
       "      <td>1</td>\n",
       "      <td>2042.38</td>\n",
       "      <td>2542.38</td>\n",
       "      <td>COVER</td>\n",
       "    </tr>\n",
       "    <tr>\n",
       "      <th>1</th>\n",
       "      <td>01-04-2018</td>\n",
       "      <td>2018-2019</td>\n",
       "      <td>1</td>\n",
       "      <td>P/A/47</td>\n",
       "      <td>CASH</td>\n",
       "      <td>ACCESSORY</td>\n",
       "      <td>1</td>\n",
       "      <td>2042.38</td>\n",
       "      <td>2118.64</td>\n",
       "      <td>WIRELESS HEADSET</td>\n",
       "    </tr>\n",
       "    <tr>\n",
       "      <th>2</th>\n",
       "      <td>01-04-2018</td>\n",
       "      <td>2018-2019</td>\n",
       "      <td>1</td>\n",
       "      <td>P/M/A34</td>\n",
       "      <td>CREDIT</td>\n",
       "      <td>MOBILE</td>\n",
       "      <td>1</td>\n",
       "      <td>2042.38</td>\n",
       "      <td>13303.58</td>\n",
       "      <td>BUDGET PHONE</td>\n",
       "    </tr>\n",
       "    <tr>\n",
       "      <th>3</th>\n",
       "      <td>01-04-2018</td>\n",
       "      <td>2018-2019</td>\n",
       "      <td>1</td>\n",
       "      <td>P/M/A42</td>\n",
       "      <td>CREDIT</td>\n",
       "      <td>MOBILE</td>\n",
       "      <td>1</td>\n",
       "      <td>2042.38</td>\n",
       "      <td>51696.43</td>\n",
       "      <td>FLAGSHIP PHONE</td>\n",
       "    </tr>\n",
       "    <tr>\n",
       "      <th>4</th>\n",
       "      <td>01-04-2018</td>\n",
       "      <td>2018-2019</td>\n",
       "      <td>1</td>\n",
       "      <td>P/M/A42</td>\n",
       "      <td>DEBIT</td>\n",
       "      <td>MOBILE</td>\n",
       "      <td>1</td>\n",
       "      <td>2042.38</td>\n",
       "      <td>51696.42</td>\n",
       "      <td>FLAGSHIP PHONE</td>\n",
       "    </tr>\n",
       "  </tbody>\n",
       "</table>\n",
       "</div>"
      ],
      "text/plain": [
       "         Date        F.Y  QUARTER     P_NO PAYMENT TYPE TYPE OF PRODUCT  \\\n",
       "0  01-04-2018  2018-2019        1   P/A/36         CASH       ACCESSORY   \n",
       "1  01-04-2018  2018-2019        1   P/A/47         CASH       ACCESSORY   \n",
       "2  01-04-2018  2018-2019        1  P/M/A34       CREDIT          MOBILE   \n",
       "3  01-04-2018  2018-2019        1  P/M/A42       CREDIT          MOBILE   \n",
       "4  01-04-2018  2018-2019        1  P/M/A42        DEBIT          MOBILE   \n",
       "\n",
       "   Quantity    Price    Amount TYPE OF ACCESSORY/MOBILE  \n",
       "0         1  2042.38   2542.38                    COVER  \n",
       "1         1  2042.38   2118.64         WIRELESS HEADSET  \n",
       "2         1  2042.38  13303.58             BUDGET PHONE  \n",
       "3         1  2042.38  51696.43           FLAGSHIP PHONE  \n",
       "4         1  2042.38  51696.42           FLAGSHIP PHONE  "
      ]
     },
     "execution_count": 70,
     "metadata": {},
     "output_type": "execute_result"
    }
   ],
   "source": [
    "# Creat an expectation suite\n",
    "expectation_suite_name = 'expectation-smartphone-dataset'\n",
    "context.add_or_update_expectation_suite(expectation_suite_name)\n",
    "\n",
    "# Create a validator using above expectation suite\n",
    "validator = context.get_validator(\n",
    "    batch_request = batch_request,\n",
    "    expectation_suite_name = expectation_suite_name\n",
    ")\n",
    "\n",
    "# Check the validator\n",
    "validator.head()"
   ]
  },
  {
   "cell_type": "markdown",
   "metadata": {},
   "source": [
    "## Expectation"
   ]
  },
  {
   "cell_type": "code",
   "execution_count": 71,
   "metadata": {},
   "outputs": [
    {
     "data": {
      "application/vnd.jupyter.widget-view+json": {
       "model_id": "671865f5848547e6bbccb67044630dd0",
       "version_major": 2,
       "version_minor": 0
      },
      "text/plain": [
       "Calculating Metrics:   0%|          | 0/6 [00:00<?, ?it/s]"
      ]
     },
     "metadata": {},
     "output_type": "display_data"
    },
    {
     "data": {
      "text/plain": [
       "{\n",
       "  \"success\": true,\n",
       "  \"result\": {\n",
       "    \"element_count\": 6421,\n",
       "    \"unexpected_count\": 0,\n",
       "    \"unexpected_percent\": 0.0,\n",
       "    \"partial_unexpected_list\": []\n",
       "  },\n",
       "  \"meta\": {},\n",
       "  \"exception_info\": {\n",
       "    \"raised_exception\": false,\n",
       "    \"exception_traceback\": null,\n",
       "    \"exception_message\": null\n",
       "  }\n",
       "}"
      ]
     },
     "execution_count": 71,
     "metadata": {},
     "output_type": "execute_result"
    }
   ],
   "source": [
    "# Expectation 1 : Column `Quantity` can not contain missing values\n",
    "\n",
    "validator.expect_column_values_to_not_be_null('Quantity')"
   ]
  },
  {
   "cell_type": "markdown",
   "metadata": {},
   "source": [
    "Expectation 1 : Column `Quantity` can not contain missing values == Success, unexpected percent (0.0%)"
   ]
  },
  {
   "cell_type": "code",
   "execution_count": 72,
   "metadata": {},
   "outputs": [
    {
     "data": {
      "application/vnd.jupyter.widget-view+json": {
       "model_id": "fc6a5997b3fa4e70858d199e9fda3723",
       "version_major": 2,
       "version_minor": 0
      },
      "text/plain": [
       "Calculating Metrics:   0%|          | 0/8 [00:00<?, ?it/s]"
      ]
     },
     "metadata": {},
     "output_type": "display_data"
    },
    {
     "data": {
      "text/plain": [
       "{\n",
       "  \"success\": false,\n",
       "  \"result\": {\n",
       "    \"element_count\": 6421,\n",
       "    \"unexpected_count\": 6348,\n",
       "    \"unexpected_percent\": 98.86310543529045,\n",
       "    \"partial_unexpected_list\": [\n",
       "      2542.38,\n",
       "      2118.64,\n",
       "      13303.58,\n",
       "      51696.43,\n",
       "      51696.42,\n",
       "      57946.42,\n",
       "      31241.08,\n",
       "      13303.58,\n",
       "      57946.42,\n",
       "      2203.38,\n",
       "      31241.08,\n",
       "      51696.42,\n",
       "      51696.43,\n",
       "      57946.42,\n",
       "      10084.74,\n",
       "      1906.78,\n",
       "      44633.93,\n",
       "      1258.92,\n",
       "      12410.72,\n",
       "      46419.64\n",
       "    ],\n",
       "    \"missing_count\": 0,\n",
       "    \"missing_percent\": 0.0,\n",
       "    \"unexpected_percent_total\": 98.86310543529045,\n",
       "    \"unexpected_percent_nonmissing\": 98.86310543529045\n",
       "  },\n",
       "  \"meta\": {},\n",
       "  \"exception_info\": {\n",
       "    \"raised_exception\": false,\n",
       "    \"exception_traceback\": null,\n",
       "    \"exception_message\": null\n",
       "  }\n",
       "}"
      ]
     },
     "execution_count": 72,
     "metadata": {},
     "output_type": "execute_result"
    }
   ],
   "source": [
    "# Expectation 2 : Column `Amount` must be unique\n",
    "\n",
    "validator.expect_column_values_to_be_unique('Amount')"
   ]
  },
  {
   "cell_type": "markdown",
   "metadata": {},
   "source": [
    "Expectation 2 : Column `Amount` must be unique == Fail, unexpected percent (98.8%)"
   ]
  },
  {
   "cell_type": "code",
   "execution_count": 73,
   "metadata": {},
   "outputs": [
    {
     "data": {
      "application/vnd.jupyter.widget-view+json": {
       "model_id": "6f033a3735954fb49c0417670d694e53",
       "version_major": 2,
       "version_minor": 0
      },
      "text/plain": [
       "Calculating Metrics:   0%|          | 0/8 [00:00<?, ?it/s]"
      ]
     },
     "metadata": {},
     "output_type": "display_data"
    },
    {
     "data": {
      "text/plain": [
       "{\n",
       "  \"success\": false,\n",
       "  \"result\": {\n",
       "    \"element_count\": 6421,\n",
       "    \"unexpected_count\": 1785,\n",
       "    \"unexpected_percent\": 27.799408191870423,\n",
       "    \"partial_unexpected_list\": [\n",
       "      57446.42,\n",
       "      60125.0,\n",
       "      60125.0,\n",
       "      51196.42,\n",
       "      51196.42,\n",
       "      51196.42,\n",
       "      61017.86,\n",
       "      61017.86,\n",
       "      60125.0,\n",
       "      51196.42,\n",
       "      58339.28,\n",
       "      51196.42,\n",
       "      61017.86,\n",
       "      57446.43,\n",
       "      57446.42,\n",
       "      30741.08,\n",
       "      51196.42,\n",
       "      51196.42,\n",
       "      57446.42,\n",
       "      51196.43\n",
       "    ],\n",
       "    \"missing_count\": 0,\n",
       "    \"missing_percent\": 0.0,\n",
       "    \"unexpected_percent_total\": 27.799408191870423,\n",
       "    \"unexpected_percent_nonmissing\": 27.799408191870423\n",
       "  },\n",
       "  \"meta\": {},\n",
       "  \"exception_info\": {\n",
       "    \"raised_exception\": false,\n",
       "    \"exception_traceback\": null,\n",
       "    \"exception_message\": null\n",
       "  }\n",
       "}"
      ]
     },
     "execution_count": 73,
     "metadata": {},
     "output_type": "execute_result"
    }
   ],
   "source": [
    "# Expectation 3 : Column `Amount` must be less than $ 20000\n",
    "\n",
    "validator.expect_column_values_to_be_between(\n",
    "    column='Price', min_value=100, max_value=20000\n",
    ")"
   ]
  },
  {
   "cell_type": "markdown",
   "metadata": {},
   "source": [
    "Expectation 3 : Column `Amount` must be less than $ 20000 == Fail, unexpected percent (27.7%)\n"
   ]
  },
  {
   "cell_type": "code",
   "execution_count": 74,
   "metadata": {},
   "outputs": [
    {
     "data": {
      "application/vnd.jupyter.widget-view+json": {
       "model_id": "cc19f49de8574ccf977b0f8468d71ddf",
       "version_major": 2,
       "version_minor": 0
      },
      "text/plain": [
       "Calculating Metrics:   0%|          | 0/2 [00:00<?, ?it/s]"
      ]
     },
     "metadata": {},
     "output_type": "display_data"
    },
    {
     "data": {
      "text/plain": [
       "{\n",
       "  \"success\": true,\n",
       "  \"result\": {},\n",
       "  \"meta\": {},\n",
       "  \"exception_info\": {\n",
       "    \"raised_exception\": false,\n",
       "    \"exception_traceback\": null,\n",
       "    \"exception_message\": null\n",
       "  }\n",
       "}"
      ]
     },
     "execution_count": 74,
     "metadata": {},
     "output_type": "execute_result"
    }
   ],
   "source": [
    "# Expectation 4 : Column `Amount` must be there to calculate the amount of cost of 1 product that must be paid\n",
    "\n",
    "validator.expect_column_to_exist(column='Amount')"
   ]
  },
  {
   "cell_type": "markdown",
   "metadata": {},
   "source": [
    "Expectation 4 : Column `Amount` must be there to calculate the amount of cost of 1 product that must be paid == Success, unexpected percent (0.0%)"
   ]
  },
  {
   "cell_type": "code",
   "execution_count": 75,
   "metadata": {},
   "outputs": [
    {
     "data": {
      "application/vnd.jupyter.widget-view+json": {
       "model_id": "47ba63d386d54457849bc2b3dea5c184",
       "version_major": 2,
       "version_minor": 0
      },
      "text/plain": [
       "Calculating Metrics:   0%|          | 0/8 [00:00<?, ?it/s]"
      ]
     },
     "metadata": {},
     "output_type": "display_data"
    },
    {
     "data": {
      "text/plain": [
       "{\n",
       "  \"success\": true,\n",
       "  \"result\": {\n",
       "    \"element_count\": 6421,\n",
       "    \"unexpected_count\": 0,\n",
       "    \"unexpected_percent\": 0.0,\n",
       "    \"partial_unexpected_list\": [],\n",
       "    \"missing_count\": 0,\n",
       "    \"missing_percent\": 0.0,\n",
       "    \"unexpected_percent_total\": 0.0,\n",
       "    \"unexpected_percent_nonmissing\": 0.0\n",
       "  },\n",
       "  \"meta\": {},\n",
       "  \"exception_info\": {\n",
       "    \"raised_exception\": false,\n",
       "    \"exception_traceback\": null,\n",
       "    \"exception_message\": null\n",
       "  }\n",
       "}"
      ]
     },
     "execution_count": 75,
     "metadata": {},
     "output_type": "execute_result"
    }
   ],
   "source": [
    "# Expectation 5 : Column `QUARTER` must contain one of the following 6 things :\n",
    "# 1 = Januari, Februari, Maret\n",
    "# 2 = April, Mei, Juni\n",
    "# 3 = Juli, Agustus, September\n",
    "# 4 = Oktober, November, Desember\n",
    "\n",
    "validator.expect_column_values_to_be_in_set('QUARTER', [1, 2, 3, 4])"
   ]
  },
  {
   "cell_type": "markdown",
   "metadata": {},
   "source": [
    "Expectation 5 : Column `QUARTER` must contain one of the following 6 things :\n",
    "- 1 = Januari, Februari, Maret\n",
    "- 2 = April, Mei, Juni\n",
    "- 3 = Juli, Agustus, September\n",
    "- 4 = Oktober, November, Desember  \n",
    "Expectation is Success, unexpected percent (0.0%) "
   ]
  },
  {
   "cell_type": "code",
   "execution_count": 76,
   "metadata": {},
   "outputs": [
    {
     "data": {
      "application/vnd.jupyter.widget-view+json": {
       "model_id": "2a8ca56987e44682918a6bb61925c286",
       "version_major": 2,
       "version_minor": 0
      },
      "text/plain": [
       "Calculating Metrics:   0%|          | 0/1 [00:00<?, ?it/s]"
      ]
     },
     "metadata": {},
     "output_type": "display_data"
    },
    {
     "data": {
      "text/plain": [
       "{\n",
       "  \"success\": true,\n",
       "  \"result\": {\n",
       "    \"observed_value\": \"float64\"\n",
       "  },\n",
       "  \"meta\": {},\n",
       "  \"exception_info\": {\n",
       "    \"raised_exception\": false,\n",
       "    \"exception_traceback\": null,\n",
       "    \"exception_message\": null\n",
       "  }\n",
       "}"
      ]
     },
     "execution_count": 76,
     "metadata": {},
     "output_type": "execute_result"
    }
   ],
   "source": [
    "# Expectation 6 : Column `Price` must in form of integer or float\n",
    "\n",
    "validator.expect_column_values_to_be_in_type_list('Price', ['integer', 'float'])"
   ]
  },
  {
   "cell_type": "markdown",
   "metadata": {},
   "source": [
    "Expectation 6 : Column `Price` must in form of integer or float == Success, unexpected percent (0.0%)"
   ]
  },
  {
   "cell_type": "code",
   "execution_count": 77,
   "metadata": {},
   "outputs": [
    {
     "data": {
      "application/vnd.jupyter.widget-view+json": {
       "model_id": "ac49367439cd4299a4f26c1c9b9a9173",
       "version_major": 2,
       "version_minor": 0
      },
      "text/plain": [
       "Calculating Metrics:   0%|          | 0/4 [00:00<?, ?it/s]"
      ]
     },
     "metadata": {},
     "output_type": "display_data"
    },
    {
     "data": {
      "text/plain": [
       "{\n",
       "  \"success\": true,\n",
       "  \"result\": {\n",
       "    \"observed_value\": 1.058246379068681\n",
       "  },\n",
       "  \"meta\": {},\n",
       "  \"exception_info\": {\n",
       "    \"raised_exception\": false,\n",
       "    \"exception_traceback\": null,\n",
       "    \"exception_message\": null\n",
       "  }\n",
       "}"
      ]
     },
     "execution_count": 77,
     "metadata": {},
     "output_type": "execute_result"
    }
   ],
   "source": [
    "# Expectation 7 : The average of `Quantity` must in range 1 - 2\n",
    "\n",
    "validator.expect_column_mean_to_be_between('Quantity', 1, 2)"
   ]
  },
  {
   "cell_type": "markdown",
   "metadata": {},
   "source": [
    "Expectation 7 : The average of `Quantity` must in range 1 - 2 == Success, unexpected peercent (0.0%)"
   ]
  },
  {
   "cell_type": "code",
   "execution_count": 78,
   "metadata": {},
   "outputs": [],
   "source": [
    "# Save into Expectation Suite\n",
    "\n",
    "validator.save_expectation_suite(discard_failed_expectations=False)"
   ]
  },
  {
   "cell_type": "markdown",
   "metadata": {},
   "source": [
    "## Checkpoint"
   ]
  },
  {
   "cell_type": "code",
   "execution_count": 79,
   "metadata": {},
   "outputs": [],
   "source": [
    "# Create a checkpoint\n",
    "\n",
    "checkpoint_1 = context.add_or_update_checkpoint(\n",
    "    name = 'checkpoint_1',\n",
    "    validator = validator,\n",
    ")"
   ]
  },
  {
   "cell_type": "code",
   "execution_count": 80,
   "metadata": {},
   "outputs": [
    {
     "data": {
      "application/vnd.jupyter.widget-view+json": {
       "model_id": "85237aabcf1247158fe4fafcd6e61eee",
       "version_major": 2,
       "version_minor": 0
      },
      "text/plain": [
       "Calculating Metrics:   0%|          | 0/30 [00:00<?, ?it/s]"
      ]
     },
     "metadata": {},
     "output_type": "display_data"
    }
   ],
   "source": [
    "# Run a checkpoint\n",
    "\n",
    "checkpoint_result = checkpoint_1.run()"
   ]
  },
  {
   "cell_type": "markdown",
   "metadata": {},
   "source": [
    "Checkpoint with data raw 100%"
   ]
  },
  {
   "cell_type": "markdown",
   "metadata": {},
   "source": [
    "## Data Docs"
   ]
  },
  {
   "cell_type": "code",
   "execution_count": 81,
   "metadata": {},
   "outputs": [
    {
     "data": {
      "text/plain": [
       "{'local_site': 'file://c:\\\\Users\\\\Fadhilah\\\\Desktop\\\\P2M3-Fadhilah\\\\dags\\\\gx\\\\uncommitted/data_docs/local_site/index.html'}"
      ]
     },
     "execution_count": 81,
     "metadata": {},
     "output_type": "execute_result"
    }
   ],
   "source": [
    "# Build data docs\n",
    "\n",
    "context.build_data_docs()"
   ]
  },
  {
   "cell_type": "markdown",
   "metadata": {},
   "source": [
    "# Data Validation using Another File"
   ]
  },
  {
   "cell_type": "code",
   "execution_count": 82,
   "metadata": {},
   "outputs": [],
   "source": [
    "# Connect to a data source\n",
    "\n",
    "import great_expectations as gx\n",
    "\n",
    "context_jan = gx.get_context(context_root_dir='./gx/')"
   ]
  },
  {
   "cell_type": "code",
   "execution_count": 83,
   "metadata": {},
   "outputs": [],
   "source": [
    "# Give a name to a Datasource. This name must be unique between Datasources.\n",
    "datasource_name = 'csv-data-feb'\n",
    "datasource = context_jan.sources.add_pandas(datasource_name)\n",
    "\n",
    "# Give a name to a data asset\n",
    "asset_name = 'Outlet_Smartphone'\n",
    "path_to_data = 'P2M3_Fadhilah_data_clean.csv'\n",
    "asset = datasource.add_csv_asset(asset_name, filepath_or_buffer=path_to_data)\n",
    "\n",
    "# Build batch request\n",
    "batch_request_feb = asset.build_batch_request()"
   ]
  },
  {
   "cell_type": "code",
   "execution_count": 84,
   "metadata": {},
   "outputs": [
    {
     "data": {
      "application/vnd.jupyter.widget-view+json": {
       "model_id": "3d688ee74f0d4e968dc22074da4f6d0b",
       "version_major": 2,
       "version_minor": 0
      },
      "text/plain": [
       "Calculating Metrics:   0%|          | 0/30 [00:00<?, ?it/s]"
      ]
     },
     "metadata": {},
     "output_type": "display_data"
    }
   ],
   "source": [
    "# Create a checkpoint\n",
    "\n",
    "checkpoint_2 = context_jan.add_or_update_checkpoint(\n",
    "    name = 'checkpoint_2',\n",
    "    batch_request = batch_request_feb,\n",
    "    expectation_suite_name = expectation_suite_name\n",
    ")\n",
    "\n",
    "checkpoint_result = checkpoint_2.run()"
   ]
  },
  {
   "cell_type": "markdown",
   "metadata": {},
   "source": [
    "Checkpoint with data clean (another data) result 60%"
   ]
  },
  {
   "cell_type": "code",
   "execution_count": 85,
   "metadata": {},
   "outputs": [
    {
     "data": {
      "text/plain": [
       "{'local_site': 'file://c:\\\\Users\\\\Fadhilah\\\\Desktop\\\\P2M3-Fadhilah\\\\dags\\\\gx\\\\uncommitted/data_docs/local_site/index.html'}"
      ]
     },
     "execution_count": 85,
     "metadata": {},
     "output_type": "execute_result"
    }
   ],
   "source": [
    "# Build data docs\n",
    "\n",
    "context.build_data_docs()"
   ]
  }
 ],
 "metadata": {
  "kernelspec": {
   "display_name": "py39",
   "language": "python",
   "name": "python3"
  },
  "language_info": {
   "codemirror_mode": {
    "name": "ipython",
    "version": 3
   },
   "file_extension": ".py",
   "mimetype": "text/x-python",
   "name": "python",
   "nbconvert_exporter": "python",
   "pygments_lexer": "ipython3",
   "version": "3.9.18"
  }
 },
 "nbformat": 4,
 "nbformat_minor": 2
}
